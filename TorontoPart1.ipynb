{
    "cells": [
        {
            "metadata": {},
            "cell_type": "code",
            "source": "# @hidden_cell\n# The project token is an authorization token that is used to access project resources like data sources, connections, and used by platform APIs.\nfrom project_lib import Project\nproject = Project(project_id='f4b691f6-a8cb-418a-a6e8-0d382386c3b6', project_access_token='p-88de594f3e8c683ea1c7eb04191301df19258210')\npc = project.project_context\n",
            "execution_count": 1,
            "outputs": []
        },
        {
            "metadata": {},
            "cell_type": "code",
            "source": "!pip install bs4",
            "execution_count": 2,
            "outputs": [
                {
                    "output_type": "stream",
                    "text": "/opt/conda/envs/Python-3.7-main/lib/python3.7/site-packages/secretstorage/dhcrypto.py:16: CryptographyDeprecationWarning: int_from_bytes is deprecated, use int.from_bytes instead\n  from cryptography.utils import int_from_bytes\n/opt/conda/envs/Python-3.7-main/lib/python3.7/site-packages/secretstorage/util.py:25: CryptographyDeprecationWarning: int_from_bytes is deprecated, use int.from_bytes instead\n  from cryptography.utils import int_from_bytes\nCollecting bs4\n  Downloading bs4-0.0.1.tar.gz (1.1 kB)\nRequirement already satisfied: beautifulsoup4 in /opt/conda/envs/Python-3.7-main/lib/python3.7/site-packages (from bs4) (4.9.1)\nRequirement already satisfied: soupsieve>1.2 in /opt/conda/envs/Python-3.7-main/lib/python3.7/site-packages (from beautifulsoup4->bs4) (2.0.1)\nBuilding wheels for collected packages: bs4\n  Building wheel for bs4 (setup.py) ... \u001b[?25ldone\n\u001b[?25h  Created wheel for bs4: filename=bs4-0.0.1-py3-none-any.whl size=1272 sha256=933b838411545c97bcedf645fdddc6e51e3bcd884909bb73c90677cf877fc0e3\n  Stored in directory: /tmp/wsuser/.cache/pip/wheels/0a/9e/ba/20e5bbc1afef3a491f0b3bb74d508f99403aabe76eda2167ca\nSuccessfully built bs4\nInstalling collected packages: bs4\nSuccessfully installed bs4-0.0.1\n",
                    "name": "stdout"
                }
            ]
        },
        {
            "metadata": {},
            "cell_type": "code",
            "source": "from bs4 import BeautifulSoup # this module helps in web scrapping.\nimport requests  # this module helps us to download a web page",
            "execution_count": 3,
            "outputs": []
        },
        {
            "metadata": {},
            "cell_type": "markdown",
            "source": "# Creating Soup object"
        },
        {
            "metadata": {},
            "cell_type": "code",
            "source": "\nurl= 'https://en.wikipedia.org/wiki/List_of_postal_codes_of_Canada:_M'\nhtml=requests.get(url).text\n\nsoup = BeautifulSoup(html, 'html5lib')",
            "execution_count": null,
            "outputs": []
        },
        {
            "metadata": {},
            "cell_type": "markdown",
            "source": "# Creating Table"
        },
        {
            "metadata": {},
            "cell_type": "code",
            "source": "table_contents=[]\ntable=soup.find('table')\nfor row in table.findAll('td'):\n    cell = {}\n    if row.span.text=='Not assigned':\n        pass\n    else:\n        cell['PostalCode'] = row.p.text[:3]\n        cell['Borough'] = (row.span.text).split('(')[0]\n        cell['Neighborhood'] = (((((row.span.text).split('(')[1]).strip(')')).replace(' /',',')).replace(')',' ')).strip(' ')\n        table_contents.append(cell)",
            "execution_count": 5,
            "outputs": []
        },
        {
            "metadata": {},
            "cell_type": "code",
            "source": "table_contents",
            "execution_count": 6,
            "outputs": [
                {
                    "output_type": "execute_result",
                    "execution_count": 6,
                    "data": {
                        "text/plain": "[{'PostalCode': 'M3A', 'Borough': 'North York', 'Neighborhood': 'Parkwoods'},\n {'PostalCode': 'M4A',\n  'Borough': 'North York',\n  'Neighborhood': 'Victoria Village'},\n {'PostalCode': 'M5A',\n  'Borough': 'Downtown Toronto',\n  'Neighborhood': 'Regent Park, Harbourfront'},\n {'PostalCode': 'M6A',\n  'Borough': 'North York',\n  'Neighborhood': 'Lawrence Manor, Lawrence Heights'},\n {'PostalCode': 'M7A',\n  'Borough': \"Queen's Park\",\n  'Neighborhood': 'Ontario Provincial Government'},\n {'PostalCode': 'M9A',\n  'Borough': 'Etobicoke',\n  'Neighborhood': 'Islington Avenue'},\n {'PostalCode': 'M1B',\n  'Borough': 'Scarborough',\n  'Neighborhood': 'Malvern, Rouge'},\n {'PostalCode': 'M3B',\n  'Borough': 'North York',\n  'Neighborhood': 'Don Mills North'},\n {'PostalCode': 'M4B',\n  'Borough': 'East York',\n  'Neighborhood': 'Parkview Hill, Woodbine Gardens'},\n {'PostalCode': 'M5B',\n  'Borough': 'Downtown Toronto',\n  'Neighborhood': 'Garden District, Ryerson'},\n {'PostalCode': 'M6B', 'Borough': 'North York', 'Neighborhood': 'Glencairn'},\n {'PostalCode': 'M9B',\n  'Borough': 'Etobicoke',\n  'Neighborhood': 'West Deane Park, Princess Gardens, Martin Grove, Islington, Cloverdale'},\n {'PostalCode': 'M1C',\n  'Borough': 'Scarborough',\n  'Neighborhood': 'Rouge Hill, Port Union, Highland Creek'},\n {'PostalCode': 'M3C',\n  'Borough': 'North York',\n  'Neighborhood': 'Don Mills South'},\n {'PostalCode': 'M4C',\n  'Borough': 'East York',\n  'Neighborhood': 'Woodbine Heights'},\n {'PostalCode': 'M5C',\n  'Borough': 'Downtown Toronto',\n  'Neighborhood': 'St. James Town'},\n {'PostalCode': 'M6C',\n  'Borough': 'York',\n  'Neighborhood': 'Humewood-Cedarvale'},\n {'PostalCode': 'M9C',\n  'Borough': 'Etobicoke',\n  'Neighborhood': 'Eringate, Bloordale Gardens, Old Burnhamthorpe, Markland Wood'},\n {'PostalCode': 'M1E',\n  'Borough': 'Scarborough',\n  'Neighborhood': 'Guildwood, Morningside, West Hill'},\n {'PostalCode': 'M4E',\n  'Borough': 'East Toronto',\n  'Neighborhood': 'The Beaches'},\n {'PostalCode': 'M5E',\n  'Borough': 'Downtown Toronto',\n  'Neighborhood': 'Berczy Park'},\n {'PostalCode': 'M6E',\n  'Borough': 'York',\n  'Neighborhood': 'Caledonia-Fairbanks'},\n {'PostalCode': 'M1G', 'Borough': 'Scarborough', 'Neighborhood': 'Woburn'},\n {'PostalCode': 'M4G', 'Borough': 'East York', 'Neighborhood': 'Leaside'},\n {'PostalCode': 'M5G',\n  'Borough': 'Downtown Toronto',\n  'Neighborhood': 'Central Bay Street'},\n {'PostalCode': 'M6G',\n  'Borough': 'Downtown Toronto',\n  'Neighborhood': 'Christie'},\n {'PostalCode': 'M1H', 'Borough': 'Scarborough', 'Neighborhood': 'Cedarbrae'},\n {'PostalCode': 'M2H',\n  'Borough': 'North York',\n  'Neighborhood': 'Hillcrest Village'},\n {'PostalCode': 'M3H',\n  'Borough': 'North York',\n  'Neighborhood': 'Bathurst Manor, Wilson Heights, Downsview North'},\n {'PostalCode': 'M4H',\n  'Borough': 'East York',\n  'Neighborhood': 'Thorncliffe Park'},\n {'PostalCode': 'M5H',\n  'Borough': 'Downtown Toronto',\n  'Neighborhood': 'Richmond, Adelaide, King'},\n {'PostalCode': 'M6H',\n  'Borough': 'West Toronto',\n  'Neighborhood': 'Dufferin, Dovercourt Village'},\n {'PostalCode': 'M1J',\n  'Borough': 'Scarborough',\n  'Neighborhood': 'Scarborough Village'},\n {'PostalCode': 'M2J',\n  'Borough': 'North York',\n  'Neighborhood': 'Fairview, Henry Farm, Oriole'},\n {'PostalCode': 'M3J',\n  'Borough': 'North York',\n  'Neighborhood': 'Northwood Park, York University'},\n {'PostalCode': 'M4J',\n  'Borough': 'East YorkEast Toronto',\n  'Neighborhood': 'The Danforth  East'},\n {'PostalCode': 'M5J',\n  'Borough': 'Downtown Toronto',\n  'Neighborhood': 'Harbourfront East, Union Station, Toronto Islands'},\n {'PostalCode': 'M6J',\n  'Borough': 'West Toronto',\n  'Neighborhood': 'Little Portugal, Trinity'},\n {'PostalCode': 'M1K',\n  'Borough': 'Scarborough',\n  'Neighborhood': 'Kennedy Park, Ionview, East Birchmount Park'},\n {'PostalCode': 'M2K',\n  'Borough': 'North York',\n  'Neighborhood': 'Bayview Village'},\n {'PostalCode': 'M3K',\n  'Borough': 'North York',\n  'Neighborhood': 'Downsview East'},\n {'PostalCode': 'M4K',\n  'Borough': 'East Toronto',\n  'Neighborhood': 'The Danforth West, Riverdale'},\n {'PostalCode': 'M5K',\n  'Borough': 'Downtown Toronto',\n  'Neighborhood': 'Toronto Dominion Centre, Design Exchange'},\n {'PostalCode': 'M6K',\n  'Borough': 'West Toronto',\n  'Neighborhood': 'Brockton, Parkdale Village, Exhibition Place'},\n {'PostalCode': 'M1L',\n  'Borough': 'Scarborough',\n  'Neighborhood': 'Golden Mile, Clairlea, Oakridge'},\n {'PostalCode': 'M2L',\n  'Borough': 'North York',\n  'Neighborhood': 'York Mills, Silver Hills'},\n {'PostalCode': 'M3L',\n  'Borough': 'North York',\n  'Neighborhood': 'Downsview West'},\n {'PostalCode': 'M4L',\n  'Borough': 'East Toronto',\n  'Neighborhood': 'India Bazaar, The Beaches West'},\n {'PostalCode': 'M5L',\n  'Borough': 'Downtown Toronto',\n  'Neighborhood': 'Commerce Court, Victoria Hotel'},\n {'PostalCode': 'M6L',\n  'Borough': 'North York',\n  'Neighborhood': 'North Park, Maple Leaf Park, Upwood Park'},\n {'PostalCode': 'M9L',\n  'Borough': 'North York',\n  'Neighborhood': 'Humber Summit'},\n {'PostalCode': 'M1M',\n  'Borough': 'Scarborough',\n  'Neighborhood': 'Cliffside, Cliffcrest, Scarborough Village West'},\n {'PostalCode': 'M2M',\n  'Borough': 'North York',\n  'Neighborhood': 'Willowdale, Newtonbrook'},\n {'PostalCode': 'M3M',\n  'Borough': 'North York',\n  'Neighborhood': 'Downsview Central'},\n {'PostalCode': 'M4M',\n  'Borough': 'East Toronto',\n  'Neighborhood': 'Studio District'},\n {'PostalCode': 'M5M',\n  'Borough': 'North York',\n  'Neighborhood': 'Bedford Park, Lawrence Manor East'},\n {'PostalCode': 'M6M',\n  'Borough': 'York',\n  'Neighborhood': 'Del Ray, Mount Dennis, Keelsdale and Silverthorn'},\n {'PostalCode': 'M9M',\n  'Borough': 'North York',\n  'Neighborhood': 'Humberlea, Emery'},\n {'PostalCode': 'M1N',\n  'Borough': 'Scarborough',\n  'Neighborhood': 'Birch Cliff, Cliffside West'},\n {'PostalCode': 'M2N',\n  'Borough': 'North York',\n  'Neighborhood': 'Willowdale South'},\n {'PostalCode': 'M3N',\n  'Borough': 'North York',\n  'Neighborhood': 'Downsview Northwest'},\n {'PostalCode': 'M4N',\n  'Borough': 'Central Toronto',\n  'Neighborhood': 'Lawrence Park'},\n {'PostalCode': 'M5N',\n  'Borough': 'Central Toronto',\n  'Neighborhood': 'Roselawn'},\n {'PostalCode': 'M6N',\n  'Borough': 'York',\n  'Neighborhood': 'Runnymede, The Junction North'},\n {'PostalCode': 'M9N', 'Borough': 'York', 'Neighborhood': 'Weston'},\n {'PostalCode': 'M1P',\n  'Borough': 'Scarborough',\n  'Neighborhood': 'Dorset Park, Wexford Heights, Scarborough Town Centre'},\n {'PostalCode': 'M2P',\n  'Borough': 'North York',\n  'Neighborhood': 'York Mills West'},\n {'PostalCode': 'M4P',\n  'Borough': 'Central Toronto',\n  'Neighborhood': 'Davisville North'},\n {'PostalCode': 'M5P',\n  'Borough': 'Central Toronto',\n  'Neighborhood': 'Forest Hill North & West'},\n {'PostalCode': 'M6P',\n  'Borough': 'West Toronto',\n  'Neighborhood': 'High Park, The Junction South'},\n {'PostalCode': 'M9P', 'Borough': 'Etobicoke', 'Neighborhood': 'Westmount'},\n {'PostalCode': 'M1R',\n  'Borough': 'Scarborough',\n  'Neighborhood': 'Wexford, Maryvale'},\n {'PostalCode': 'M2R',\n  'Borough': 'North York',\n  'Neighborhood': 'Willowdale West'},\n {'PostalCode': 'M4R',\n  'Borough': 'Central Toronto',\n  'Neighborhood': 'North Toronto West'},\n {'PostalCode': 'M5R',\n  'Borough': 'Central Toronto',\n  'Neighborhood': 'The Annex, North Midtown, Yorkville'},\n {'PostalCode': 'M6R',\n  'Borough': 'West Toronto',\n  'Neighborhood': 'Parkdale, Roncesvalles'},\n {'PostalCode': 'M7R',\n  'Borough': 'MississaugaCanada Post Gateway Processing Centre',\n  'Neighborhood': 'Enclave of L4W'},\n {'PostalCode': 'M9R',\n  'Borough': 'Etobicoke',\n  'Neighborhood': 'Kingsview Village, St. Phillips, Martin Grove Gardens, Richview Gardens'},\n {'PostalCode': 'M1S', 'Borough': 'Scarborough', 'Neighborhood': 'Agincourt'},\n {'PostalCode': 'M4S',\n  'Borough': 'Central Toronto',\n  'Neighborhood': 'Davisville'},\n {'PostalCode': 'M5S',\n  'Borough': 'Downtown Toronto',\n  'Neighborhood': 'University of Toronto, Harbord'},\n {'PostalCode': 'M6S',\n  'Borough': 'West Toronto',\n  'Neighborhood': 'Runnymede, Swansea'},\n {'PostalCode': 'M1T',\n  'Borough': 'Scarborough',\n  'Neighborhood': \"Clarks Corners, Tam O'Shanter, Sullivan\"},\n {'PostalCode': 'M4T',\n  'Borough': 'Central Toronto',\n  'Neighborhood': 'Moore Park, Summerhill East'},\n {'PostalCode': 'M5T',\n  'Borough': 'Downtown Toronto',\n  'Neighborhood': 'Kensington Market, Chinatown, Grange Park'},\n {'PostalCode': 'M1V',\n  'Borough': 'Scarborough',\n  'Neighborhood': \"Milliken, Agincourt North, Steeles East, L'Amoreaux East\"},\n {'PostalCode': 'M4V',\n  'Borough': 'Central Toronto',\n  'Neighborhood': 'Summerhill West, Rathnelly, South Hill, Forest Hill SE, Deer Park'},\n {'PostalCode': 'M5V',\n  'Borough': 'Downtown Toronto',\n  'Neighborhood': 'CN Tower, King and Spadina, Railway Lands, Harbourfront West, Bathurst Quay, South Niagara, Island airport'},\n {'PostalCode': 'M8V',\n  'Borough': 'Etobicoke',\n  'Neighborhood': 'New Toronto, Mimico South, Humber Bay Shores'},\n {'PostalCode': 'M9V',\n  'Borough': 'Etobicoke',\n  'Neighborhood': 'South Steeles, Silverstone, Humbergate, Jamestown, Mount Olive, Beaumond Heights, Thistletown, Albion Gardens'},\n {'PostalCode': 'M1W',\n  'Borough': 'Scarborough',\n  'Neighborhood': \"Steeles West, L'Amoreaux West\"},\n {'PostalCode': 'M4W',\n  'Borough': 'Downtown Toronto',\n  'Neighborhood': 'Rosedale'},\n {'PostalCode': 'M5W',\n  'Borough': 'Downtown TorontoStn A PO Boxes25 The Esplanade',\n  'Neighborhood': 'Enclave of M5E'},\n {'PostalCode': 'M8W',\n  'Borough': 'Etobicoke',\n  'Neighborhood': 'Alderwood, Long Branch'},\n {'PostalCode': 'M9W',\n  'Borough': 'EtobicokeNorthwest',\n  'Neighborhood': 'Clairville, Humberwood, Woodbine Downs, West Humber, Kipling Heights, Rexdale, Elms, Tandridge, Old Rexdale'},\n {'PostalCode': 'M1X',\n  'Borough': 'Scarborough',\n  'Neighborhood': 'Upper Rouge'},\n {'PostalCode': 'M4X',\n  'Borough': 'Downtown Toronto',\n  'Neighborhood': 'St. James Town, Cabbagetown'},\n {'PostalCode': 'M5X',\n  'Borough': 'Downtown Toronto',\n  'Neighborhood': 'First Canadian Place, Underground city'},\n {'PostalCode': 'M8X',\n  'Borough': 'Etobicoke',\n  'Neighborhood': 'The Kingsway, Montgomery Road, Old Mill North'},\n {'PostalCode': 'M4Y',\n  'Borough': 'Downtown Toronto',\n  'Neighborhood': 'Church and Wellesley'},\n {'PostalCode': 'M7Y',\n  'Borough': 'East TorontoBusiness reply mail Processing Centre969 Eastern',\n  'Neighborhood': 'Enclave of M4L'},\n {'PostalCode': 'M8Y',\n  'Borough': 'Etobicoke',\n  'Neighborhood': \"Old Mill South, King's Mill Park, Sunnylea, Humber Bay, Mimico NE, The Queensway East, Royal York South East, Kingsway Park South East\"},\n {'PostalCode': 'M8Z',\n  'Borough': 'Etobicoke',\n  'Neighborhood': 'Mimico NW, The Queensway West, South of Bloor, Kingsway Park South West, Royal York South West'}]"
                    },
                    "metadata": {}
                }
            ]
        },
        {
            "metadata": {},
            "cell_type": "code",
            "source": "import pandas as pd\nfrom pandas.io.json import json_normalize",
            "execution_count": 7,
            "outputs": []
        },
        {
            "metadata": {},
            "cell_type": "code",
            "source": "dataframe = pd.json_normalize(table_contents)\ndataframe.head()",
            "execution_count": 8,
            "outputs": [
                {
                    "output_type": "execute_result",
                    "execution_count": 8,
                    "data": {
                        "text/plain": "  PostalCode           Borough                      Neighborhood\n0        M3A        North York                         Parkwoods\n1        M4A        North York                  Victoria Village\n2        M5A  Downtown Toronto         Regent Park, Harbourfront\n3        M6A        North York  Lawrence Manor, Lawrence Heights\n4        M7A      Queen's Park     Ontario Provincial Government",
                        "text/html": "<div>\n<style scoped>\n    .dataframe tbody tr th:only-of-type {\n        vertical-align: middle;\n    }\n\n    .dataframe tbody tr th {\n        vertical-align: top;\n    }\n\n    .dataframe thead th {\n        text-align: right;\n    }\n</style>\n<table border=\"1\" class=\"dataframe\">\n  <thead>\n    <tr style=\"text-align: right;\">\n      <th></th>\n      <th>PostalCode</th>\n      <th>Borough</th>\n      <th>Neighborhood</th>\n    </tr>\n  </thead>\n  <tbody>\n    <tr>\n      <th>0</th>\n      <td>M3A</td>\n      <td>North York</td>\n      <td>Parkwoods</td>\n    </tr>\n    <tr>\n      <th>1</th>\n      <td>M4A</td>\n      <td>North York</td>\n      <td>Victoria Village</td>\n    </tr>\n    <tr>\n      <th>2</th>\n      <td>M5A</td>\n      <td>Downtown Toronto</td>\n      <td>Regent Park, Harbourfront</td>\n    </tr>\n    <tr>\n      <th>3</th>\n      <td>M6A</td>\n      <td>North York</td>\n      <td>Lawrence Manor, Lawrence Heights</td>\n    </tr>\n    <tr>\n      <th>4</th>\n      <td>M7A</td>\n      <td>Queen's Park</td>\n      <td>Ontario Provincial Government</td>\n    </tr>\n  </tbody>\n</table>\n</div>"
                    },
                    "metadata": {}
                }
            ]
        },
        {
            "metadata": {},
            "cell_type": "code",
            "source": "dataframe.shape",
            "execution_count": 16,
            "outputs": [
                {
                    "output_type": "execute_result",
                    "execution_count": 16,
                    "data": {
                        "text/plain": "(103, 3)"
                    },
                    "metadata": {}
                }
            ]
        },
        {
            "metadata": {},
            "cell_type": "code",
            "source": "",
            "execution_count": null,
            "outputs": []
        }
    ],
    "metadata": {
        "kernelspec": {
            "name": "python3",
            "display_name": "Python 3.7",
            "language": "python"
        },
        "language_info": {
            "name": "python",
            "version": "3.7.10",
            "mimetype": "text/x-python",
            "codemirror_mode": {
                "name": "ipython",
                "version": 3
            },
            "pygments_lexer": "ipython3",
            "nbconvert_exporter": "python",
            "file_extension": ".py"
        }
    },
    "nbformat": 4,
    "nbformat_minor": 1
}